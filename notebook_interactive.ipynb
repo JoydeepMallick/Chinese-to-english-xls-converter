{
  "cells": [
    {
      "cell_type": "markdown",
      "metadata": {
        "id": "td3FTy95_ItY"
      },
      "source": [
        "# Final code at the last code block\n",
        "\n",
        "The last two **code blocks** calculates time needed for 2 different approaches to translation\n",
        "Chinese is the assumed language to be translated to english.\n",
        "\n",
        "#### Note :-\n",
        "1. Running `translate` in kaggle or google collab seems more feasible than on local machine since it takes quite a lot of time on local machine with slow hardware.\n",
        "\n",
        "2. Though its NLP task hence CPU intensive and free tier does not provide with good CPUs. **2 cores 2.30 ghz each in collab and 4 cores 2.30 ghz each in kaggle**.   \n",
        "\n",
        "3. `googletrans` relies on data fetch from server and does not stress local resources.\n",
        "\n",
        "\n",
        "[My Collab link](https://colab.research.google.com/drive/1sFpVnbat8oenrNzDLFkUN6j5qt1MQxvU?usp=sharing)"
      ]
    },
    {
      "cell_type": "markdown",
      "metadata": {
        "id": "nHRTfeyB_Itm"
      },
      "source": [
        "## All Imports\n",
        "\n",
        "Install the following via pip :-\n",
        "```bash\n",
        "pip install xlrd xlwt translate googletrans==4.0.0-rc1 thread\n",
        "```"
      ]
    },
    {
      "cell_type": "code",
      "execution_count": 2,
      "metadata": {
        "colab": {
          "base_uri": "https://localhost:8080/"
        },
        "id": "g85VqIup_Ito",
        "outputId": "4f629cea-cd82-466d-87ae-9b05378b0aab"
      },
      "outputs": [
        {
          "name": "stdout",
          "output_type": "stream",
          "text": [
            "Requirement already satisfied: xlrd in c:\\users\\joydeep\\appdata\\local\\programs\\python\\python310\\lib\\site-packages (2.0.1)\n",
            "Requirement already satisfied: xlwt in c:\\users\\joydeep\\appdata\\local\\programs\\python\\python310\\lib\\site-packages (1.3.0)\n",
            "Requirement already satisfied: translate in c:\\users\\joydeep\\appdata\\local\\programs\\python\\python310\\lib\\site-packages (3.6.1)\n",
            "Requirement already satisfied: googletrans==4.0.0-rc1 in c:\\users\\joydeep\\appdata\\local\\programs\\python\\python310\\lib\\site-packages (4.0.0rc1)\n",
            "Requirement already satisfied: thread in c:\\users\\joydeep\\appdata\\local\\programs\\python\\python310\\lib\\site-packages (0.1.3)\n",
            "Requirement already satisfied: httpx==0.13.3 in c:\\users\\joydeep\\appdata\\local\\programs\\python\\python310\\lib\\site-packages (from googletrans==4.0.0-rc1) (0.13.3)\n",
            "Requirement already satisfied: certifi in c:\\users\\joydeep\\appdata\\local\\programs\\python\\python310\\lib\\site-packages (from httpx==0.13.3->googletrans==4.0.0-rc1) (2021.10.8)\n",
            "Requirement already satisfied: hstspreload in c:\\users\\joydeep\\appdata\\local\\programs\\python\\python310\\lib\\site-packages (from httpx==0.13.3->googletrans==4.0.0-rc1) (2023.1.1)\n",
            "Requirement already satisfied: sniffio in c:\\users\\joydeep\\appdata\\local\\programs\\python\\python310\\lib\\site-packages (from httpx==0.13.3->googletrans==4.0.0-rc1) (1.2.0)\n",
            "Requirement already satisfied: chardet==3.* in c:\\users\\joydeep\\appdata\\local\\programs\\python\\python310\\lib\\site-packages (from httpx==0.13.3->googletrans==4.0.0-rc1) (3.0.4)\n",
            "Requirement already satisfied: idna==2.* in c:\\users\\joydeep\\appdata\\local\\programs\\python\\python310\\lib\\site-packages (from httpx==0.13.3->googletrans==4.0.0-rc1) (2.10)\n",
            "Requirement already satisfied: rfc3986<2,>=1.3 in c:\\users\\joydeep\\appdata\\local\\programs\\python\\python310\\lib\\site-packages (from httpx==0.13.3->googletrans==4.0.0-rc1) (1.5.0)\n",
            "Requirement already satisfied: httpcore==0.9.* in c:\\users\\joydeep\\appdata\\local\\programs\\python\\python310\\lib\\site-packages (from httpx==0.13.3->googletrans==4.0.0-rc1) (0.9.1)\n",
            "Requirement already satisfied: h11<0.10,>=0.8 in c:\\users\\joydeep\\appdata\\local\\programs\\python\\python310\\lib\\site-packages (from httpcore==0.9.*->httpx==0.13.3->googletrans==4.0.0-rc1) (0.9.0)\n",
            "Requirement already satisfied: h2==3.* in c:\\users\\joydeep\\appdata\\local\\programs\\python\\python310\\lib\\site-packages (from httpcore==0.9.*->httpx==0.13.3->googletrans==4.0.0-rc1) (3.2.0)\n",
            "Requirement already satisfied: hyperframe<6,>=5.2.0 in c:\\users\\joydeep\\appdata\\local\\programs\\python\\python310\\lib\\site-packages (from h2==3.*->httpcore==0.9.*->httpx==0.13.3->googletrans==4.0.0-rc1) (5.2.0)\n",
            "Requirement already satisfied: hpack<4,>=3.0 in c:\\users\\joydeep\\appdata\\local\\programs\\python\\python310\\lib\\site-packages (from h2==3.*->httpcore==0.9.*->httpx==0.13.3->googletrans==4.0.0-rc1) (3.0.0)\n",
            "Requirement already satisfied: click in c:\\users\\joydeep\\appdata\\local\\programs\\python\\python310\\lib\\site-packages (from translate) (8.0.3)\n",
            "Requirement already satisfied: lxml in c:\\users\\joydeep\\appdata\\local\\programs\\python\\python310\\lib\\site-packages (from translate) (4.9.3)\n",
            "Requirement already satisfied: requests in c:\\users\\joydeep\\appdata\\local\\programs\\python\\python310\\lib\\site-packages (from translate) (2.27.1)\n",
            "Requirement already satisfied: libretranslatepy==2.1.1 in c:\\users\\joydeep\\appdata\\local\\programs\\python\\python310\\lib\\site-packages (from translate) (2.1.1)\n",
            "Requirement already satisfied: numpy<2.0.0,>=1.26.2 in c:\\users\\joydeep\\appdata\\local\\programs\\python\\python310\\lib\\site-packages (from thread) (1.26.3)\n",
            "Requirement already satisfied: typer<0.10.0,>=0.9.0 in c:\\users\\joydeep\\appdata\\local\\programs\\python\\python310\\lib\\site-packages (from typer[all]<0.10.0,>=0.9.0->thread) (0.9.0)\n",
            "Requirement already satisfied: typing-extensions<5.0.0,>=4.8.0 in c:\\users\\joydeep\\appdata\\local\\programs\\python\\python310\\lib\\site-packages (from thread) (4.9.0)\n",
            "Requirement already satisfied: colorama in c:\\users\\joydeep\\appdata\\roaming\\python\\python310\\site-packages (from click->translate) (0.4.6)\n",
            "Requirement already satisfied: shellingham<2.0.0,>=1.3.0 in c:\\users\\joydeep\\appdata\\local\\programs\\python\\python310\\lib\\site-packages (from typer[all]<0.10.0,>=0.9.0->thread) (1.5.4)\n",
            "Requirement already satisfied: rich<14.0.0,>=10.11.0 in c:\\users\\joydeep\\appdata\\local\\programs\\python\\python310\\lib\\site-packages (from typer[all]<0.10.0,>=0.9.0->thread) (13.7.0)\n",
            "Requirement already satisfied: urllib3<1.27,>=1.21.1 in c:\\users\\joydeep\\appdata\\local\\programs\\python\\python310\\lib\\site-packages (from requests->translate) (1.26.8)\n",
            "Requirement already satisfied: charset-normalizer~=2.0.0 in c:\\users\\joydeep\\appdata\\local\\programs\\python\\python310\\lib\\site-packages (from requests->translate) (2.0.12)\n",
            "Requirement already satisfied: markdown-it-py>=2.2.0 in c:\\users\\joydeep\\appdata\\local\\programs\\python\\python310\\lib\\site-packages (from rich<14.0.0,>=10.11.0->typer[all]<0.10.0,>=0.9.0->thread) (3.0.0)\n",
            "Requirement already satisfied: pygments<3.0.0,>=2.13.0 in c:\\users\\joydeep\\appdata\\local\\programs\\python\\python310\\lib\\site-packages (from rich<14.0.0,>=10.11.0->typer[all]<0.10.0,>=0.9.0->thread) (2.17.2)\n",
            "Requirement already satisfied: mdurl~=0.1 in c:\\users\\joydeep\\appdata\\local\\programs\\python\\python310\\lib\\site-packages (from markdown-it-py>=2.2.0->rich<14.0.0,>=10.11.0->typer[all]<0.10.0,>=0.9.0->thread) (0.1.2)\n"
          ]
        },
        {
          "name": "stderr",
          "output_type": "stream",
          "text": [
            "WARNING: There was an error checking the latest version of pip.\n"
          ]
        }
      ],
      "source": [
        "!pip install xlrd xlwt translate googletrans==4.0.0-rc1 thread\n",
        "import time\n",
        "import os\n",
        "import thread\n",
        "import xlrd  # Probably Fastest for reading traditional XLS files since it only does that(no writing)\n",
        "import xlwt\n",
        "from translate import Translator as t_trans # local library for offline translation on system\n",
        "from googletrans import Translator as google_trans\n",
        "import threading\n",
        "import multiprocessing"
      ]
    },
    {
      "cell_type": "markdown",
      "metadata": {
        "id": "PLZeWEK0_Its"
      },
      "source": [
        "## Loading the dataset\n",
        "\n",
        "We assume dataset is present in data folder of working directory"
      ]
    },
    {
      "cell_type": "code",
      "execution_count": 4,
      "metadata": {
        "colab": {
          "base_uri": "https://localhost:8080/"
        },
        "id": "zUYe5pi0_Its",
        "outputId": "766b2030-14ef-42a7-8a6b-42525371ee6c"
      },
      "outputs": [
        {
          "name": "stdout",
          "output_type": "stream",
          "text": [
            "The number of worksheets given : 1\n",
            "Name of Worksheet(s) : ['1703575094065_1550538120']\n",
            "Total number of rows :  109 \n",
            "Total number of columns :  49\n"
          ]
        }
      ],
      "source": [
        "# We first read the given XLS file using xlrd\n",
        "workbook = xlrd.open_workbook(\"./data/Order Export.xls\")\n",
        "print(\"The number of worksheets given : {0}\".format(workbook.nsheets))\n",
        "print(\"Name of Worksheet(s) : {0}\".format(workbook.sheet_names()))\n",
        "\n",
        "# loading the sheet\n",
        "sheet = workbook.sheet_by_index(0)\n",
        "\n",
        "print(\"Total number of rows : \",sheet.nrows,\"\\nTotal number of columns : \", sheet.ncols)"
      ]
    },
    {
      "cell_type": "markdown",
      "metadata": {
        "id": "X64X14-M_Itt"
      },
      "source": [
        "## Viewing a particular row and column\n",
        "This is just for testing purpose only\n",
        "1. View data of an entire row\n",
        "2. View data of an entire column\n",
        "3. View data of a particular desired cell\n",
        "\n",
        "#### NOTE :-\n",
        "\n",
        "Think of it as a simple matrix of data with 0-based indexing for both row and col and access accordingly.\n",
        "\n",
        "Read more here :- [python-excel.pdf](https://github.com/python-excel/tutorial/raw/master/python-excel.pdf)"
      ]
    },
    {
      "cell_type": "code",
      "execution_count": 4,
      "metadata": {
        "colab": {
          "base_uri": "https://localhost:8080/"
        },
        "id": "K7uwlEiZ_Itu",
        "outputId": "3183909c-62e7-479d-dc19-e859a25b547e"
      },
      "outputs": [
        {
          "name": "stdout",
          "output_type": "stream",
          "text": [
            "<class 'list'> <class 'xlrd.sheet.Cell'> <class 'list'> <class 'str'>\n",
            "\n",
            "\n",
            "Data in row 0 i.e. headers :  [text:'订单编号', text:'买家公司名', text:'买家会员名', text:'卖家公司名', text:'卖家会员名', text:'货品总价(元)', text:'运费(元)', text:'涨价或折扣(元)', text:'实付款(元)', text:'订单状态', text:'订单创建时间', text:'订单付款时间', text:'发货方', text:'收货人姓名', text:'收货地址', text:'邮编', text:'联系电话', text:'联系手机', text:'货品标题', text:'单价(元)', text:'数量', text:'单位', text:'货号', text:'型号', text:'Offer ID', text:'SKU ID', text:'物料编号', text:'单品货号', text:'货品种类', text:'买家留言', text:'物流公司', text:'运单号', text:'发票：购货单位名称', text:'发票：纳税人识别号', text:'发票：地址、电话', text:'发票：开户行及账号', text:'发票收取地址', text:'关联编号', text:'代理商姓名', text:'代理商联系方式', text:'是否代发订单', text:'代发服务商id', text:'微商订单号', text:'下单批次号', text:'下游渠道', text:'下游订单号', text:'下单公司主体', text:'发起人登录名', text:'是否发起免密支付(1:淘货源诚e赊免密支付2:批量下单免密支付)']\n",
            "\n",
            "Data in row 1 :  ['3704877109186608177', '', 'tb582836650', '台州市路桥乐缇电子商务商行', '乐缇贸易', 75.0, 10.0, 0.0, 85.0, '等待买家付款', 45285.7677662037, '', '商家发货', 'BGL海运仓by sea', '广东省 广州市 白云区 太和镇 大沥村太和庄一街16号奔力物流园之7-2广雄中东仓 DU12817+STDXB 巩固 与女士交谈 Atali 发货前 BY SEA BGL - Guangzhou.', '000000', '', '18922721829', '2023年复古花纹女士单肩手提包 时尚单肩大容量包包 颜色: 米白', 25.0, 1.0, '个', '6019，单包重量0.45KG', '', '708154429646', '5146867131106', '', '6019', 2.0, '请在外包装上注明,DUB 12817 +STDXB BY SEA, 巩固 与女士交谈 Atali 发货前', '', '', '', '', '', '', '', '', '', '', '', '', '', '', '', '', '', 'tb582836650', '']\n",
            "\n",
            "\n",
            "Data in column 0 :  [text:'订单编号', text:'3704877109186608177', empty:'', text:'3704473224061608177', empty:'', empty:'', text:'3704457168240608177', empty:'', empty:'', text:'3704915846466608177', empty:'', text:'3704991771528608177', empty:'', text:'3704873582838608177', empty:'', empty:'', text:'3704833946919608177', empty:'', text:'3704891187524608177', empty:'', text:'3701690031567608177', empty:'', empty:'', text:'3701593982780608177', text:'3699564375076608177', empty:'', text:'3696759254249608177', empty:'', empty:'', empty:'', empty:'', empty:'', text:'3694826233308608177', text:'3692279631294608177', text:'3692032958569608177', text:'3691866638463608177', text:'3691870418132608177', text:'3691865270269608177', text:'3690550620243608177', text:'3690154296736608177', text:'3690442047948608177', text:'3688589198921608177', text:'3687889179938608177', text:'3687271920538608177', text:'3687785319792608177', text:'3686685410893608177', empty:'', empty:'', empty:'', text:'3686690415372608177', empty:'', empty:'', text:'3685306070645608177', empty:'', empty:'', text:'3685402155547608177', empty:'', empty:'', empty:'', text:'3684273084744608177', text:'3684643021213608177', text:'3684695366833608177', text:'3684687302216608177', text:'3684579373354608177', text:'3666728845931608177', text:'3666278918599608177', empty:'', empty:'', empty:'', empty:'', empty:'', empty:'', empty:'', empty:'', empty:'', empty:'', empty:'', empty:'', empty:'', empty:'', empty:'', empty:'', empty:'', empty:'', text:'3666343647851608177', empty:'', empty:'', text:'3665662128551608177', text:'3665158922425608177', text:'3665128322194608177', text:'3665073458190608177', empty:'', empty:'', text:'3665153919795608177', empty:'', empty:'', text:'3664161541165608177', empty:'', empty:'', empty:'', text:'3663736992560608177', text:'3664201466056608177', text:'3663348805674608177', empty:'', empty:'', text:'3662934732083608177', empty:'', text:'3662917560203608177', empty:'']\n",
            "\n",
            "Data in column 1 :  ['买家公司名', '', '', '', '', '', '', '', '', '', '', '', '', '', '', '', '', '', '', '', '', '', '', '', '', '', '', '', '', '', '', '', '', '', '', '', '', '', '', '', '', '', '', '', '', '', '', '', '', '', '', '', '', '', '', '', '', '', '', '', '', '', '', '', '', '', '', '', '', '', '', '', '', '', '', '', '', '', '', '', '', '', '', '', '', '', '', '', '', '', '', '', '', '', '', '', '', '', '', '', '', '', '', '', '', '', '', '', '']\n",
            "\n",
            "\n",
            "Cell value at (1,0) :  text:'3704877109186608177'\n",
            "\n",
            "Cell value at (2,1) :  \n"
          ]
        }
      ],
      "source": [
        "print(type(sheet.row(0)), type(sheet.cell(2,1)), type(sheet.col_values(1)), type(sheet.cell_value(3,2)))\n",
        "\n",
        "print(\"\\n\\nData in row 0 i.e. headers : \",sheet.row(0)) # key value pairs\n",
        "print(\"\\nData in row 1 : \",sheet.row_values(1)) # only values as list\n",
        "\n",
        "print(\"\\n\\nData in column 0 : \",sheet.col(0))\n",
        "print(\"\\nData in column 1 : \",sheet.col_values(1))\n",
        "\n",
        "print(\"\\n\\nCell value at (1,0) : \", sheet.cell(1,0))\n",
        "print(\"\\nCell value at (2,1) : \", sheet.cell_value(2,1))\n"
      ]
    },
    {
      "cell_type": "markdown",
      "metadata": {
        "id": "bdSp4d_2_Itz"
      },
      "source": [
        "## Create a output folder in current location if not exists"
      ]
    },
    {
      "cell_type": "code",
      "execution_count": 5,
      "metadata": {
        "colab": {
          "base_uri": "https://localhost:8080/"
        },
        "id": "sDD-bx49_It0",
        "outputId": "efd92946-b634-4b71-ae25-8fdcf2ad0e1c"
      },
      "outputs": [
        {
          "name": "stdout",
          "output_type": "stream",
          "text": [
            "Folder 'output' created at: /content/output\n"
          ]
        }
      ],
      "source": [
        "\n",
        "def create_output_folder():\n",
        "    folder_name = \"output\"\n",
        "    current_location = os.getcwd()\n",
        "    output_folder_path = os.path.join(current_location, folder_name)\n",
        "\n",
        "    # Check if the folder exists\n",
        "    if not os.path.exists(output_folder_path):\n",
        "        # Create the folder if it doesn't exist\n",
        "        os.makedirs(output_folder_path)\n",
        "        print(f\"Folder '{folder_name}' created at: {output_folder_path}\")\n",
        "    else:\n",
        "        print(f\"Folder '{folder_name}' already exists at: {output_folder_path}\")\n",
        "\n",
        "# Call the function to create the \"output\" folder\n",
        "create_output_folder()"
      ]
    },
    {
      "cell_type": "markdown",
      "metadata": {
        "id": "LIhawa_R_It1"
      },
      "source": [
        "## Converting all chinese data into english and storing in a xls file again\n",
        "\n",
        "We have few options\n",
        "\n",
        "1. Project `translate` from PyPi, we use the offline version only since DeepL has limited API callsfree tier\n",
        "\n",
        "2. Project `googletrans` from PyPi which offers google translate API with unlimited calls."
      ]
    },
    {
      "cell_type": "markdown",
      "metadata": {
        "id": "q_56FCxZ_It2"
      },
      "source": [
        "### Using `translate` module\n",
        "\n",
        "auto detection has some issues see [stackoverflow](https://stackoverflow.com/questions/71631442/translate-python-not-auto-detecting-language-properly) hence hardcode them"
      ]
    },
    {
      "cell_type": "markdown",
      "metadata": {
        "id": "nejutbhm_It3"
      },
      "source": [
        "#### without threading"
      ]
    },
    {
      "cell_type": "code",
      "execution_count": 6,
      "metadata": {
        "colab": {
          "base_uri": "https://localhost:8080/"
        },
        "id": "vF-AVj1n_It3",
        "outputId": "ee3c85bb-1b98-4a26-e83f-3afc31e2ed9b"
      },
      "outputs": [
        {
          "name": "stdout",
          "output_type": "stream",
          "text": [
            "Total time taken by translate and saving xls file :  2081.246784210205  seconds\n"
          ]
        }
      ],
      "source": [
        "cur_lang = 'zh'\n",
        "trans_lang = 'en'\n",
        "\n",
        "translator = t_trans(from_lang = cur_lang, to_lang =  trans_lang)\n",
        "# print(translator.translate(\"订单编号\"))\n",
        "\n",
        "start_time = time.time()\n",
        "\n",
        "data_english_version = []\n",
        "for row_ind in range(sheet.nrows):\n",
        "    chinese_data_in_row = sheet.row_values(row_ind)\n",
        "    english_data_in_row = [translator.translate(str(chinese_text)) for chinese_text in chinese_data_in_row]\n",
        "    data_english_version.append(english_data_in_row)\n",
        "    # break\n",
        "\n",
        "# Writing to output folder\n",
        "workbook = xlwt.Workbook()\n",
        "worksheet = workbook.add_sheet(\"Translated Sheet 1\")\n",
        "for row_index, row_data in enumerate(data_english_version):\n",
        "    for col_index, cell_value in enumerate(row_data):\n",
        "        worksheet.write(row_index, col_index, cell_value)\n",
        "workbook.save(\"./output/Translated_Exports_via_translate.xls\")\n",
        "\n",
        "end_time = time.time()\n",
        "trans_time = (end_time - start_time)\n",
        "print(\"Total time taken by translate and saving xls file : \", trans_time,\" seconds\")"
      ]
    },
    {
      "cell_type": "markdown",
      "metadata": {
        "id": "daSklcSL_It5"
      },
      "source": [
        "#### with threading\n",
        "\n",
        "tried implementing threading but little speed improved."
      ]
    },
    {
      "cell_type": "code",
      "execution_count": 5,
      "metadata": {
        "colab": {
          "base_uri": "https://localhost:8080/"
        },
        "id": "3jIZ29uO_It5",
        "outputId": "81ef8c72-31ee-4019-9fd7-17879af523d8"
      },
      "outputs": [
        {
          "name": "stdout",
          "output_type": "stream",
          "text": [
            "Total time taken by translate and saving xls file: 1714.7480189800262 seconds\n"
          ]
        }
      ],
      "source": [
        "def translate_chunk(start_row, end_row):\n",
        "    # Translates a chunk of rows in a separate thread.\n",
        "    english_data_chunk = []\n",
        "    for row_ind in range(start_row, end_row):\n",
        "        chinese_data_in_row = sheet.row_values(row_ind)\n",
        "        english_data_in_row = [translator.translate(str(chinese_text)) for chinese_text in chinese_data_in_row]\n",
        "        english_data_chunk.append(english_data_in_row)\n",
        "    data_english_version.extend(english_data_chunk)\n",
        "\n",
        "\n",
        "cur_lang = 'zh'\n",
        "trans_lang = 'en'\n",
        "\n",
        "translator = t_trans(from_lang = cur_lang, to_lang =  trans_lang)\n",
        "start_time = time.time()\n",
        "data_english_version = []\n",
        "\n",
        "# create a thread pool with the number of available CPU cores\n",
        "num_threads = multiprocessing.cpu_count()\n",
        "thread_pool = []\n",
        "\n",
        "# divide the rows into chunks for each thread\n",
        "chunk_size = int(sheet.nrows / num_threads)\n",
        "\n",
        "# Create threads and assign work\n",
        "for thread_index in range(num_threads):\n",
        "    start_row = thread_index * chunk_size\n",
        "    end_row = min((thread_index + 1) * chunk_size, sheet.nrows)  # Ensuring last chunk isn't out of bounds\n",
        "\n",
        "    thread = threading.Thread(target=translate_chunk, args=(start_row, end_row))\n",
        "    thread_pool.append(thread)\n",
        "    thread.start()\n",
        "\n",
        "# Wait for all threads to finish\n",
        "for thread in thread_pool:\n",
        "    thread.join()\n",
        "\n",
        "# Writing to output folder (no change needed here)\n",
        "workbook = xlwt.Workbook()\n",
        "worksheet = workbook.add_sheet(\"Translated Sheet 1.1\")\n",
        "for row_index, row_data in enumerate(data_english_version):\n",
        "    for col_index, cell_value in enumerate(row_data):\n",
        "        worksheet.write(row_index, col_index, cell_value)\n",
        "workbook.save(\"./output/Translated_Exports_via_translate_THREAD.xls\")\n",
        "\n",
        "end_time = time.time()\n",
        "trans_time = (end_time - start_time)\n",
        "print(\"Total time taken by translate and saving xls file:\", trans_time, \"seconds\")\n",
        "\n"
      ]
    },
    {
      "cell_type": "markdown",
      "metadata": {
        "id": "9KYyig0m_It6"
      },
      "source": [
        "### Using `googletrans` module\n",
        "\n",
        "We need to install googletrans version 4.0.0 rc1, normal version does not work for some system. [Read here](https://stackoverflow.com/questions/52455774/googletrans-stopped-working-with-error-nonetype-object-has-no-attribute-group).\n",
        "\n",
        "Below code just is for checking if string is actually a string or not\n",
        "\n",
        "#### NOTE:-\n",
        "Using googletrans many a times leads to read operation time outs if too many operations are done continuously though they mention it allows unlimited calls."
      ]
    },
    {
      "cell_type": "code",
      "execution_count": null,
      "metadata": {
        "id": "z_3T0wUu_It6"
      },
      "outputs": [],
      "source": [
        "import re\n",
        "\n",
        "def checkIfString(s):\n",
        "    if type(s) != str:\n",
        "        return False\n",
        "    else:\n",
        "        s = s.strip()\n",
        "        reg = re.search(r\"[-+]?\\d+(\\.\\d+)?\", s)\n",
        "        if reg:\n",
        "            num = reg.group()\n",
        "            if(num == s):\n",
        "                return False\n",
        "            else:\n",
        "                return True\n",
        "        else:\n",
        "            return True"
      ]
    },
    {
      "cell_type": "code",
      "execution_count": null,
      "metadata": {
        "id": "XXkzC41i_It6",
        "outputId": "dcc55818-ed0b-47c5-a914-13699ccccaed"
      },
      "outputs": [
        {
          "name": "stdout",
          "output_type": "stream",
          "text": [
            "Error translating: 等待买家确认收货\n",
            "Error details: The read operation timed out\n",
            "Error translating: 条\n",
            "Error details: The read operation timed out\n",
            "Error translating: M297\n",
            "Error details: The read operation timed out\n",
            "Error translating: 请在外包装上注明,DUB 12817 +STDXB BY AIR\n",
            "Error details: The read operation timed out\n",
            "Error translating: tb582836650\n",
            "Error details: The read operation timed out\n",
            "Total time taken by googletrans and saving xls file :  716.3989562988281  seconds\n"
          ]
        }
      ],
      "source": [
        "#trans_lang = 'en' # let googletrans auto detect input language\n",
        "\n",
        "# Creating Translator object\n",
        "translator = google_trans()\n",
        "# print(type(translator.translate('请在外包装上注明,DUB 12817 +STDXB BY SEA, 巩固 与女士交谈 Atali 发货前', dest='en').text))\n",
        "# providing an empty string or spaces causes error hence we cannot pass empty string\n",
        "# print(translator.translate('   ', dest='en'))\n",
        "# print(translator.translate('1234', dest='en').text)\n",
        "\n",
        "start_time = time.time()\n",
        "\n",
        "data_english_version = []\n",
        "for row_ind in range(sheet.nrows):\n",
        "    chinese_data_in_row = sheet.row_values(row_ind)\n",
        "    english_data_in_row = []\n",
        "    for chinese_text in chinese_data_in_row:\n",
        "        try:\n",
        "\n",
        "            if(str(chinese_text).strip()!='' and checkIfString(chinese_text)):\n",
        "                translation = translator.translate(str(chinese_text)).text #default is english\n",
        "            else:\n",
        "                translation = chinese_text #keep it the same\n",
        "            english_data_in_row.append(translation)\n",
        "        except Exception as e:\n",
        "            print(f\"Error translating: {chinese_text}\")\n",
        "            print(f\"Error details: {e}\")\n",
        "            english_data_in_row.append(chinese_text)  # Append original string on error\n",
        "    data_english_version.append(english_data_in_row)\n",
        "\n",
        "\n",
        "# Writing to output folder\n",
        "workbook = xlwt.Workbook()\n",
        "worksheet = workbook.add_sheet(\"Translated Sheet 2\")\n",
        "for row_index, row_data in enumerate(data_english_version):\n",
        "    for col_index, cell_value in enumerate(row_data):\n",
        "        worksheet.write(row_index, col_index, cell_value)\n",
        "workbook.save(\"./output/Translated_Exports_via_googletrans.xls\")\n",
        "\n",
        "end_time = time.time()\n",
        "googletrans_time = (end_time - start_time)\n",
        "print(\"Total time taken by googletrans and saving xls file : \", googletrans_time,\" seconds\")"
      ]
    }
  ],
  "metadata": {
    "colab": {
      "provenance": []
    },
    "kernelspec": {
      "display_name": "Python 3",
      "language": "python",
      "name": "python3"
    },
    "language_info": {
      "codemirror_mode": {
        "name": "ipython",
        "version": 3
      },
      "file_extension": ".py",
      "mimetype": "text/x-python",
      "name": "python",
      "nbconvert_exporter": "python",
      "pygments_lexer": "ipython3",
      "version": "3.10.0"
    }
  },
  "nbformat": 4,
  "nbformat_minor": 0
}
